{
 "cells": [
  {
   "cell_type": "code",
   "execution_count": null,
   "metadata": {
    "scrolled": true
   },
   "outputs": [],
   "source": [
    "import numpy as np\n",
    "from scipy import misc\n",
    "from sklearn import linear_model as lm\n",
    "from matplotlib import pylab as plt\n",
    "from sktensor import dtensor, tucker_hosvd\n",
    "import matplotlib.cm as cm\n",
    "from os import listdir\n",
    "from os.path import isfile, join\n",
    "%matplotlib inline\n",
    "\n",
    "def read_data(dir_name):\n",
    "    # List all the files in the directory, they are in the format:\n",
    "    # amit-vp0-il0-ex2.png : name-pose<id>-illumination<id>-expression<id>.png\n",
    "    # reading all the files in and creating a 5D tensor:\n",
    "    # people x 6 poses x 3 illum x 2 expression x pixels\n",
    "    f_dict = {'name':[],'pose':[],'illu':[],'expr':[], 'pix_r':[], 'pix_c':[]}\n",
    "    for f in listdir(dir_name):\n",
    "        if isfile(join(dir_name,f)):\n",
    "            f_list= f.strip().split('-')\n",
    "            f_dict['name'].append(f_list[0])\n",
    "            f_dict['pose'].append(f_list[1])\n",
    "            f_dict['illu'].append(f_list[2])\n",
    "            f_dict['expr'].append(f_list[3])\n",
    "            if 'png' in f:\n",
    "                im = misc.imread(join(dir_name,f))\n",
    "                f_dict['pix_r'].append(im.shape[0])\n",
    "                f_dict['pix_c'].append(im.shape[1])\n",
    "\n",
    "    num_name = len(set(f_dict['name']))\n",
    "    num_pose = len(set(f_dict['pose']))\n",
    "    num_illu = len(set(f_dict['illu']))\n",
    "    num_expr = len(set(f_dict['expr']))\n",
    "    num_pixels = list(set(f_dict['pix_r']))[0] * list(set(f_dict['pix_c']))[0]\n",
    "    D = np.zeros((num_name, num_pose, num_illu, num_expr, num_pixels))\n",
    "    Dorig = np.zeros((num_name*num_pose*num_illu*num_expr, num_pixels))\n",
    "    file_list = [join(dir_name,f) for f in listdir(dir_name) if (isfile(join(dir_name,f))) and ('png' in f)]\n",
    "    i = 0\n",
    "    for f in file_list:\n",
    "        Dorig[i,:] = misc.imread(f, flatten=True).reshape(num_pixels,)\n",
    "        i = i+1\n",
    "    D = np.reshape(Dorig, (num_name, num_pose, num_illu, num_expr, num_pixels))\n",
    "    return dtensor(D)\n",
    "    \n",
    "if __name__ == '__main__':\n",
    "    # Yale dataset has people and different illumination conditions\n",
    "    # Instead focusing on Weizmann dataset as TensorFaces also uses that\n",
    "    #read_data('../CroppedYale/yaleB06/yaleB06_P00.info')\n",
    "    Dt = read_data('../FaceBase_png')\n",
    "    print(Dt.shape)\n",
    "    U, core = tucker_hosvd(dtensor(Dt[0, 0,:,:,:100]), [3, 2, 1])\n",
    "    print (core)\n",
    "    print (U)"
   ]
  },
  {
   "cell_type": "code",
   "execution_count": null,
   "metadata": {},
   "outputs": [],
   "source": [
    "import numpy as np\n",
    "ta = np.array([1, 2, 3])\n",
    "print np.prod(ta)"
   ]
  },
  {
   "cell_type": "code",
   "execution_count": null,
   "metadata": {
    "collapsed": true
   },
   "outputs": [],
   "source": []
  }
 ],
 "metadata": {
  "kernelspec": {
   "display_name": "Python 2",
   "language": "python",
   "name": "python2"
  },
  "language_info": {
   "codemirror_mode": {
    "name": "ipython",
    "version": 3
   },
   "file_extension": ".py",
   "mimetype": "text/x-python",
   "name": "python",
   "nbconvert_exporter": "python",
   "pygments_lexer": "ipython3",
   "version": "3.6.0"
  }
 },
 "nbformat": 4,
 "nbformat_minor": 1
}
